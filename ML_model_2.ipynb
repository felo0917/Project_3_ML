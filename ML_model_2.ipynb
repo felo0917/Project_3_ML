{
 "cells": [
  {
   "cell_type": "code",
   "execution_count": 1,
   "metadata": {},
   "outputs": [],
   "source": [
    "import os\n",
    "import numpy as np\n",
    "import tensorflow as tf"
   ]
  },
  {
   "cell_type": "code",
   "execution_count": 2,
   "metadata": {},
   "outputs": [],
   "source": [
    "import keras \n",
    "from keras.models import *\n",
    "from keras.layers import *\n",
    "from keras.optimizers import *\n",
    "from keras.preprocessing.image import ImageDataGenerator"
   ]
  },
  {
   "cell_type": "code",
   "execution_count": 3,
   "metadata": {},
   "outputs": [],
   "source": [
    "# Dependencies to Visualize the model\n",
    "%matplotlib inline\n",
    "from IPython.display import Image, SVG\n",
    "import matplotlib.pyplot as plt\n",
    "import numpy as np\n",
    "import PIL"
   ]
  },
  {
   "cell_type": "code",
   "execution_count": 4,
   "metadata": {},
   "outputs": [],
   "source": [
    "# Sklearn scaling\n",
    "from sklearn.preprocessing import MinMaxScaler\n",
    "# from parser import load_data"
   ]
  },
  {
   "cell_type": "code",
   "execution_count": 6,
   "metadata": {},
   "outputs": [],
   "source": [
    "# Keras\n",
    "from tensorflow import keras\n",
    "from tensorflow.keras.models import Sequential\n",
    "from tensorflow.keras.utils import to_categorical\n",
    "from keras.layers import Activation, Dropout, Flatten, Dense\n",
    "from keras.preprocessing.image import ImageDataGenerator\n",
    "from keras.layers import Convolution2D, MaxPooling2D, ZeroPadding2D\n",
    "from keras import optimizers"
   ]
  },
  {
   "cell_type": "code",
   "execution_count": 3,
   "metadata": {},
   "outputs": [],
   "source": [
    "# dimensions of our images.\n",
    "train_data='archive/train'\n",
    "test_data='archive/test'"
   ]
  },
  {
   "cell_type": "code",
   "execution_count": 30,
   "metadata": {},
   "outputs": [
    {
     "name": "stdout",
     "output_type": "stream",
     "text": [
      "Found 4329 images belonging to 7 classes.\n",
      "Found 1188 images belonging to 7 classes.\n"
     ]
    }
   ],
   "source": [
    "\n",
    "train_datagen = ImageDataGenerator(rescale = 1./255, # To rescaling the image in range of [0,1]\n",
    "                                   shear_range = 0.2, # To randomly shear the images \n",
    "                                   zoom_range = 0.2, # To randomly zoom the images\n",
    "                                   horizontal_flip = True) #  for randomly flipping half of the images horizontally \n",
    "\n",
    "test_datagen = ImageDataGenerator(rescale = 1./255)\n",
    "\n",
    "train_generator = train_datagen.flow_from_directory(train_data,\n",
    "                                                target_size=(224,224),\n",
    "                                                batch_size=100, #Total no. of batches\n",
    "                                                class_mode='categorical')\n",
    "\n",
    "test_generator = test_datagen.flow_from_directory(test_data,\n",
    "                                            target_size=(224,224),\n",
    "                                            batch_size=100,\n",
    "                                            class_mode='categorical')\n"
   ]
  },
  {
   "cell_type": "code",
   "execution_count": 27,
   "metadata": {},
   "outputs": [
    {
     "name": "stdout",
     "output_type": "stream",
     "text": [
      "Model: \"sequential_5\"\n",
      "_________________________________________________________________\n",
      "Layer (type)                 Output Shape              Param #   \n",
      "=================================================================\n",
      "conv2d_10 (Conv2D)           (None, 222, 222, 32)      896       \n",
      "_________________________________________________________________\n",
      "max_pooling2d_10 (MaxPooling (None, 111, 111, 32)      0         \n",
      "_________________________________________________________________\n",
      "conv2d_11 (Conv2D)           (None, 109, 109, 32)      9248      \n",
      "_________________________________________________________________\n",
      "max_pooling2d_11 (MaxPooling (None, 54, 54, 32)        0         \n",
      "_________________________________________________________________\n",
      "flatten_5 (Flatten)          (None, 93312)             0         \n",
      "_________________________________________________________________\n",
      "dense_28 (Dense)             (None, 512)               47776256  \n",
      "_________________________________________________________________\n",
      "dense_29 (Dense)             (None, 256)               131328    \n",
      "_________________________________________________________________\n",
      "dense_30 (Dense)             (None, 512)               131584    \n",
      "_________________________________________________________________\n",
      "dense_31 (Dense)             (None, 1024)              525312    \n",
      "_________________________________________________________________\n",
      "dense_32 (Dense)             (None, 1152)              1180800   \n",
      "_________________________________________________________________\n",
      "dense_33 (Dense)             (None, 1440)              1660320   \n",
      "_________________________________________________________________\n",
      "dense_34 (Dense)             (None, 7)                 10087     \n",
      "=================================================================\n",
      "Total params: 51,425,831\n",
      "Trainable params: 51,425,831\n",
      "Non-trainable params: 0\n",
      "_________________________________________________________________\n"
     ]
    }
   ],
   "source": [
    "\n",
    "\n",
    "# Initializing CNN\n",
    "model= Sequential()\n",
    "\n",
    "#  Adding 1st Convolution layer and Pooling layer\n",
    "model.add(Convolution2D(32,(3,3),input_shape = (224,224,3), activation = 'relu'))\n",
    "# layer poolling  to reduce the size the image interpretation \n",
    "model.add(MaxPooling2D(pool_size = (2, 2)))\n",
    "\n",
    "#  Adding 2nd convolution layer and polling layer\n",
    "model.add(Convolution2D(32,(3,3), activation = 'relu'))\n",
    "\n",
    "model.add(MaxPooling2D(pool_size = (2, 2)))\n",
    "\n",
    "\n",
    "#Flattening the layers to convert the two dimentional vectort to a one dimentional vector \n",
    "model.add(Flatten())\n",
    "\n",
    "# Full_Connection using 40 dense layers with different number of Neurones to increase accuracy \n",
    "\n",
    "model.add(Dense(units=512,activation = 'relu')) # using relu activation function (non linear function)\n",
    "\n",
    "\n",
    "\n",
    "model.add(Dense(units=256,activation = 'relu'))\n",
    "\n",
    "model.add(Dense(units=512,activation = 'relu'))\n",
    "\n",
    "model.add(Dense(units=1024,activation = 'relu'))\n",
    "\n",
    "model.add(Dense(units=1152,activation = 'relu'))\n",
    "\n",
    "model.add(Dense(units=1440,activation = 'relu'))\n",
    "\n",
    "# model.add(Dense(units=1164,activation = 'relu'))\n",
    "\n",
    "# model.add(Dense(units=1164,activation = 'relu'))\n",
    "\n",
    "# model.add(Dense(units=1164,activation = 'relu'))\n",
    "\n",
    "# model.add(Dense(units=1164,activation = 'relu'))\n",
    "\n",
    "# model.add(Dense(units=1164,activation = 'relu'))\n",
    "\n",
    "# model.add(Dense(units=1164,activation = 'relu'))\n",
    "\n",
    "# model.add(Dense(units=2328,activation = 'relu'))\n",
    "\n",
    "# model.add(Dense(units=2328,activation = 'relu'))\n",
    "\n",
    "# model.add(Dense(units=2328,activation = 'relu'))\n",
    "\n",
    "# model.add(Dense(units=2328,activation = 'relu'))\n",
    "\n",
    "# model.add(Dense(units=2328,activation = 'relu'))\n",
    "\n",
    "# model.add(Dense(units=2328,activation = 'relu'))\n",
    "\n",
    "# model.add(Dense(units=2328,activation = 'relu'))\n",
    "\n",
    "# model.add(Dense(units=2328,activation = 'relu'))\n",
    "\n",
    "# model.add(Dense(units=2328,activation = 'relu'))\n",
    "\n",
    "# model.add(Dense(units=2328,activation = 'relu'))\n",
    "\n",
    "# model.add(Dense(units=2328,activation = 'relu'))\n",
    "\n",
    "# model.add(Dense(units=2328,activation = 'relu'))\n",
    "\n",
    "# model.add(Dense(units=2328,activation = 'relu'))\n",
    "\n",
    "# model.add(Dense(units=2328,activation = 'relu'))\n",
    "\n",
    "# model.add(Dense(units=2328,activation = 'relu'))\n",
    "\n",
    "# model.add(Dense(units=2328,activation = 'relu'))\n",
    "\n",
    "# model.add(Dense(units=3492,activation = 'relu'))\n",
    "\n",
    "# model.add(Dense(units=3492,activation = 'relu'))\n",
    "\n",
    "# model.add(Dense(units=3492,activation = 'relu'))\n",
    "\n",
    "# model.add(Dense(units=3492,activation = 'relu'))\n",
    "\n",
    "# model.add(Dense(units=3492,activation = 'relu'))\n",
    "\n",
    "# model.add(Dense(units=3492,activation = 'relu'))\n",
    "\n",
    "# model.add(Dense(units=3492,activation = 'relu'))\n",
    "\n",
    "# model.add(Dense(units=3492,activation = 'relu'))\n",
    "\n",
    "# model.add(Dense(units=3492,activation = 'relu'))\n",
    "\n",
    "# model.add(Dense(units=3492,activation = 'relu'))\n",
    "\n",
    "model.add(Dense(units=7,activation = 'softmax')) # No. classes > 2 --> softmax instead of sigmoid \n",
    "\n",
    "model.summary()\n"
   ]
  },
  {
   "cell_type": "markdown",
   "metadata": {},
   "source": [
    "### Training "
   ]
  },
  {
   "cell_type": "code",
   "execution_count": 28,
   "metadata": {},
   "outputs": [],
   "source": [
    "model.compile(optimizer = 'adam', loss = 'categorical_crossentropy', metrics = ['accuracy'])"
   ]
  },
  {
   "cell_type": "code",
   "execution_count": null,
   "metadata": {
    "scrolled": true
   },
   "outputs": [
    {
     "name": "stdout",
     "output_type": "stream",
     "text": [
      "Epoch 1/5\n",
      "  6/244 [..............................] - ETA: 45:41 - loss: 1.8059 - accuracy: 0.2531"
     ]
    }
   ],
   "source": [
    "nb_epoch = 5\n",
    "nb_train_samples = 244\n",
    "nb_validation_samples =63\n",
    "model.fit_generator(\n",
    "        train_generator,\n",
    "        steps_per_epoch=nb_train_samples,\n",
    "        epochs=nb_epoch,\n",
    "        validation_data=test_generator,\n",
    "       validation_steps=nb_validation_samples)"
   ]
  },
  {
   "cell_type": "code",
   "execution_count": null,
   "metadata": {},
   "outputs": [],
   "source": []
  },
  {
   "cell_type": "code",
   "execution_count": null,
   "metadata": {},
   "outputs": [],
   "source": []
  },
  {
   "cell_type": "code",
   "execution_count": null,
   "metadata": {},
   "outputs": [],
   "source": []
  }
 ],
 "metadata": {
  "kernelspec": {
   "display_name": "Python 3",
   "language": "python",
   "name": "python3"
  },
  "language_info": {
   "codemirror_mode": {
    "name": "ipython",
    "version": 3
   },
   "file_extension": ".py",
   "mimetype": "text/x-python",
   "name": "python",
   "nbconvert_exporter": "python",
   "pygments_lexer": "ipython3",
   "version": "3.7.6"
  }
 },
 "nbformat": 4,
 "nbformat_minor": 4
}
